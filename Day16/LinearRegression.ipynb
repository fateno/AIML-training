{
 "cells": [
  {
   "cell_type": "code",
   "execution_count": 1,
   "id": "60de2e7f-a085-434d-9d9a-7055ee12cccf",
   "metadata": {},
   "outputs": [],
   "source": [
    "import pandas as pd\n",
    "from sklearn.linear_model import LinearRegression\n",
    "import numpy as np"
   ]
  },
  {
   "cell_type": "code",
   "execution_count": null,
   "id": "b52227cd-74a5-4da6-84eb-33620ec33d07",
   "metadata": {},
   "outputs": [],
   "source": [
    "data=pd.read_csv(\"sales_data.csv\")\n",
    "data.head()"
   ]
  },
  {
   "cell_type": "code",
   "execution_count": null,
   "id": "25f67dbe-3ceb-4ff9-83a3-d18a92a9d9fa",
   "metadata": {},
   "outputs": [],
   "source": [
    "X = data[['Advertising_Spend']]\n",
    "y = data[['Sales_Revenue']]"
   ]
  },
  {
   "cell_type": "code",
   "execution_count": null,
   "id": "b0a2a87d-1508-44ed-ac37-101f52387bdc",
   "metadata": {},
   "outputs": [],
   "source": [
    "model=LinearRegression()"
   ]
  },
  {
   "cell_type": "code",
   "execution_count": null,
   "id": "4ab6d92e-f32f-4df8-9815-4cd4b42fbc21",
   "metadata": {},
   "outputs": [],
   "source": [
    "model.fit(X,y)\n",
    "print (\"Training done\")"
   ]
  },
  {
   "cell_type": "code",
   "execution_count": null,
   "id": "a3d4540a-dd19-4730-8d4c-9c35a395dbd3",
   "metadata": {},
   "outputs": [],
   "source": [
    "new_spend= float(input('Enter new spend (in thousands) to predict sales revenue'))\n",
    "predicted_revenue=model.predict([[new_spend]])\n",
    "print(f'New spend {new_spend} predicted revenue is {predicted_revenue}')"
   ]
  },
  {
   "cell_type": "markdown",
   "id": "c0a78e40-fb8f-466c-abba-7290753d2c43",
   "metadata": {},
   "source": [
    "# Linear Regression — House Price Prediction\n",
    "Download house_price.csv file from gitHub\n",
    "\n",
    "**Goal:**Train a Linear Regression model to predict house price from size"
   ]
  },
  {
   "cell_type": "code",
   "execution_count": 16,
   "id": "578c1ac1-626b-441a-ad9b-da8a8d3800d8",
   "metadata": {},
   "outputs": [
    {
     "data": {
      "text/html": [
       "<div>\n",
       "<style scoped>\n",
       "    .dataframe tbody tr th:only-of-type {\n",
       "        vertical-align: middle;\n",
       "    }\n",
       "\n",
       "    .dataframe tbody tr th {\n",
       "        vertical-align: top;\n",
       "    }\n",
       "\n",
       "    .dataframe thead th {\n",
       "        text-align: right;\n",
       "    }\n",
       "</style>\n",
       "<table border=\"1\" class=\"dataframe\">\n",
       "  <thead>\n",
       "    <tr style=\"text-align: right;\">\n",
       "      <th></th>\n",
       "      <th>Size_sqft</th>\n",
       "      <th>Price</th>\n",
       "    </tr>\n",
       "  </thead>\n",
       "  <tbody>\n",
       "    <tr>\n",
       "      <th>0</th>\n",
       "      <td>1000</td>\n",
       "      <td>150000</td>\n",
       "    </tr>\n",
       "    <tr>\n",
       "      <th>1</th>\n",
       "      <td>1200</td>\n",
       "      <td>170000</td>\n",
       "    </tr>\n",
       "    <tr>\n",
       "      <th>2</th>\n",
       "      <td>1500</td>\n",
       "      <td>200000</td>\n",
       "    </tr>\n",
       "    <tr>\n",
       "      <th>3</th>\n",
       "      <td>1800</td>\n",
       "      <td>230000</td>\n",
       "    </tr>\n",
       "    <tr>\n",
       "      <th>4</th>\n",
       "      <td>2000</td>\n",
       "      <td>260000</td>\n",
       "    </tr>\n",
       "  </tbody>\n",
       "</table>\n",
       "</div>"
      ],
      "text/plain": [
       "   Size_sqft   Price\n",
       "0       1000  150000\n",
       "1       1200  170000\n",
       "2       1500  200000\n",
       "3       1800  230000\n",
       "4       2000  260000"
      ]
     },
     "execution_count": 16,
     "metadata": {},
     "output_type": "execute_result"
    }
   ],
   "source": [
    "data=pd.read_csv(\"house_price.csv\")\n",
    "data.head()\n",
    "data = data.replace('?', pd.NA).dropna()\n",
    "data"
   ]
  },
  {
   "cell_type": "code",
   "execution_count": 17,
   "id": "a014abf6-ac5f-4d77-b52d-28df432b4d60",
   "metadata": {
    "scrolled": true
   },
   "outputs": [],
   "source": [
    "X = data[['Size_sqft']]\n",
    "y = data[['Price']]"
   ]
  },
  {
   "cell_type": "code",
   "execution_count": 18,
   "id": "d158c873-c69f-4e07-b3c9-ff594e285d19",
   "metadata": {
    "scrolled": true
   },
   "outputs": [
    {
     "name": "stdin",
     "output_type": "stream",
     "text": [
      "Size of the house in sqft:  4000\n"
     ]
    },
    {
     "name": "stdout",
     "output_type": "stream",
     "text": [
      "predicted price for 4000 is [[470382.35294118]]\n"
     ]
    },
    {
     "name": "stderr",
     "output_type": "stream",
     "text": [
      "/opt/anaconda3/lib/python3.13/site-packages/sklearn/utils/validation.py:2739: UserWarning: X does not have valid feature names, but LinearRegression was fitted with feature names\n",
      "  warnings.warn(\n"
     ]
    }
   ],
   "source": [
    "model=LinearRegression()\n",
    "model.fit(X,y)\n",
    "house_size=int(input('Size of the house in sqft: '))\n",
    "predictedprice=model.predict([[house_size]])\n",
    "print(f'predicted price for {house_size} is {predictedprice}')"
   ]
  },
  {
   "cell_type": "code",
   "execution_count": null,
   "id": "4e511073-bcfc-4651-891d-948e57f6a019",
   "metadata": {},
   "outputs": [],
   "source": []
  }
 ],
 "metadata": {
  "kernelspec": {
   "display_name": "Python [conda env:base] *",
   "language": "python",
   "name": "conda-base-py"
  },
  "language_info": {
   "codemirror_mode": {
    "name": "ipython",
    "version": 3
   },
   "file_extension": ".py",
   "mimetype": "text/x-python",
   "name": "python",
   "nbconvert_exporter": "python",
   "pygments_lexer": "ipython3",
   "version": "3.13.5"
  }
 },
 "nbformat": 4,
 "nbformat_minor": 5
}
