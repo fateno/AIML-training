{
 "cells": [
  {
   "cell_type": "code",
   "execution_count": 1,
   "id": "faf11287-333e-43c3-8544-7f0bfb5aaa35",
   "metadata": {},
   "outputs": [],
   "source": [
    "import pandas as pd\n",
    "from sklearn.model_selection import train_test_split\n",
    "from sklearn.linear_model import LinearRegression\n",
    " "
   ]
  },
  {
   "cell_type": "code",
   "execution_count": 4,
   "id": "e02ca8fb-7e30-451f-80c6-f6590a018730",
   "metadata": {},
   "outputs": [
    {
     "data": {
      "text/html": [
       "<div>\n",
       "<style scoped>\n",
       "    .dataframe tbody tr th:only-of-type {\n",
       "        vertical-align: middle;\n",
       "    }\n",
       "\n",
       "    .dataframe tbody tr th {\n",
       "        vertical-align: top;\n",
       "    }\n",
       "\n",
       "    .dataframe thead th {\n",
       "        text-align: right;\n",
       "    }\n",
       "</style>\n",
       "<table border=\"1\" class=\"dataframe\">\n",
       "  <thead>\n",
       "    <tr style=\"text-align: right;\">\n",
       "      <th></th>\n",
       "      <th>Hours</th>\n",
       "      <th>Marks</th>\n",
       "    </tr>\n",
       "  </thead>\n",
       "  <tbody>\n",
       "    <tr>\n",
       "      <th>0</th>\n",
       "      <td>1</td>\n",
       "      <td>25</td>\n",
       "    </tr>\n",
       "    <tr>\n",
       "      <th>1</th>\n",
       "      <td>2</td>\n",
       "      <td>35</td>\n",
       "    </tr>\n",
       "    <tr>\n",
       "      <th>2</th>\n",
       "      <td>3</td>\n",
       "      <td>45</td>\n",
       "    </tr>\n",
       "    <tr>\n",
       "      <th>3</th>\n",
       "      <td>4</td>\n",
       "      <td>50</td>\n",
       "    </tr>\n",
       "    <tr>\n",
       "      <th>4</th>\n",
       "      <td>5</td>\n",
       "      <td>55</td>\n",
       "    </tr>\n",
       "    <tr>\n",
       "      <th>5</th>\n",
       "      <td>6</td>\n",
       "      <td>65</td>\n",
       "    </tr>\n",
       "    <tr>\n",
       "      <th>6</th>\n",
       "      <td>7</td>\n",
       "      <td>70</td>\n",
       "    </tr>\n",
       "    <tr>\n",
       "      <th>7</th>\n",
       "      <td>8</td>\n",
       "      <td>80</td>\n",
       "    </tr>\n",
       "  </tbody>\n",
       "</table>\n",
       "</div>"
      ],
      "text/plain": [
       "   Hours  Marks\n",
       "0      1     25\n",
       "1      2     35\n",
       "2      3     45\n",
       "3      4     50\n",
       "4      5     55\n",
       "5      6     65\n",
       "6      7     70\n",
       "7      8     80"
      ]
     },
     "execution_count": 4,
     "metadata": {},
     "output_type": "execute_result"
    }
   ],
   "source": [
    "data = {\n",
    "    'Hours': [1,2,3,4,5,6,7,8],\n",
    "    'Marks': [25,35,45,50,55,65,70,80]\n",
    "}\n",
    "\n",
    "df = pd.DataFrame(data)\n",
    "df"
   ]
  },
  {
   "cell_type": "code",
   "execution_count": 8,
   "id": "b7cfeebe-0e34-47af-9839-9b47689cf5eb",
   "metadata": {},
   "outputs": [],
   "source": [
    "X = df[['Hours']]\n",
    "y = df[['Marks']]"
   ]
  },
  {
   "cell_type": "code",
   "execution_count": 19,
   "id": "6568b457-5d7b-4b49-b4e5-742e99acb5cd",
   "metadata": {},
   "outputs": [
    {
     "name": "stdout",
     "output_type": "stream",
     "text": [
      "Training samples: 4\n",
      "Testing samples: 4\n"
     ]
    }
   ],
   "source": [
    "# Step4: Split data into train and test sets\n",
    "X_train, X_test, y_train, y_test = train_test_split(X,y, test_size=0.5, random_state=0)\n",
    "print(\"Training samples:\", len(X_train))\n",
    "print(\"Testing samples:\", len(X_test))"
   ]
  },
  {
   "cell_type": "code",
   "execution_count": 11,
   "id": "550eb675-f6e7-4e49-82b9-8204b4a7bf62",
   "metadata": {},
   "outputs": [
    {
     "name": "stdout",
     "output_type": "stream",
     "text": [
      "Model trained successfully\n"
     ]
    }
   ],
   "source": [
    "#Creating the training model \n",
    "# Train the model \n",
    "\n",
    "model = LinearRegression()\n",
    "model.fit(X_train, y_train)\n",
    "print (\"Model trained successfully\")\n"
   ]
  },
  {
   "cell_type": "code",
   "execution_count": 20,
   "id": "da736b48-83c2-4084-9b50-798e37172caa",
   "metadata": {},
   "outputs": [
    {
     "name": "stdout",
     "output_type": "stream",
     "text": [
      "[[70]\n",
      " [45]\n",
      " [35]\n",
      " [80]]\n",
      "Actual:  [array([70]), array([45]), array([35]), array([80])]\n",
      "Predicted: [array([72.05741627]), array([42.10526316]), array([34.61722488]), array([79.54545455])]\n"
     ]
    }
   ],
   "source": [
    "# Prediction\n",
    "y_pred = model.predict(X_test)\n",
    "print(y_test.values)\n",
    "print(\"Actual: \",list(y_test.values))\n",
    "\n",
    "print(\"Predicted:\",list(y_pred))"
   ]
  },
  {
   "cell_type": "code",
   "execution_count": null,
   "id": "1e7907cd-fb21-4639-99ae-50a2debf9f75",
   "metadata": {},
   "outputs": [],
   "source": []
  }
 ],
 "metadata": {
  "kernelspec": {
   "display_name": "Python [conda env:base] *",
   "language": "python",
   "name": "conda-base-py"
  },
  "language_info": {
   "codemirror_mode": {
    "name": "ipython",
    "version": 3
   },
   "file_extension": ".py",
   "mimetype": "text/x-python",
   "name": "python",
   "nbconvert_exporter": "python",
   "pygments_lexer": "ipython3",
   "version": "3.13.5"
  }
 },
 "nbformat": 4,
 "nbformat_minor": 5
}
