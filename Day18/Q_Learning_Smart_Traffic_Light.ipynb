{
 "cells": [
  {
   "cell_type": "code",
   "execution_count": 1,
   "id": "bb3f58f2-69ad-4090-8ddf-2daf60165976",
   "metadata": {},
   "outputs": [],
   "source": [
    "import numpy as np \n",
    "import random "
   ]
  },
  {
   "cell_type": "code",
   "execution_count": 5,
   "id": "b5ab4836-5426-4164-af9b-d7a00e8593b3",
   "metadata": {},
   "outputs": [
    {
     "name": "stdout",
     "output_type": "stream",
     "text": [
      "States:  [0 1 2 3 4]\n",
      "Actions:  ['GREEN', 'RED']\n"
     ]
    }
   ],
   "source": [
    "states=np.arange(0,5,1)\n",
    "actions=['GREEN', 'RED']\n",
    "print (\"States: \", states)\n",
    "print (\"Actions: \", actions)"
   ]
  },
  {
   "cell_type": "code",
   "execution_count": 4,
   "id": "019000db-023f-49bc-826d-925056004536",
   "metadata": {},
   "outputs": [
    {
     "name": "stdout",
     "output_type": "stream",
     "text": [
      "Q-table shape:  (6, 2)\n"
     ]
    }
   ],
   "source": [
    "Q = np.zeros((len(states), len(actions)))\n",
    "\n",
    "alpha = 0.1\n",
    "gamma = 0.9 \n",
    "epsilon = 0.2\n",
    "episodes = 300 \n",
    "\n",
    "print ('Q-table shape: ',Q.shape) "
   ]
  },
  {
   "cell_type": "code",
   "execution_count": 80,
   "id": "3010c668-ea51-4b1e-9021-89dc08c5213a",
   "metadata": {},
   "outputs": [
    {
     "name": "stdout",
     "output_type": "stream",
     "text": [
      "Reward example:  -10\n"
     ]
    }
   ],
   "source": [
    "def get_reward(traffic,action):\n",
    "    #reward = 0 \n",
    "    if traffic >= 3: \n",
    "        reward = 10\n",
    "    else: \n",
    "        reward = 0\n",
    "    \n",
    "    if action== 'GREEN' and traffic >=3:\n",
    "        reward += 10\n",
    "    if action == 'RED' and traffic <=2: \n",
    "        reward -= 10 \n",
    "    if action == 'GREEN' and traffic <=2: \n",
    "        reward -= 10\n",
    "    return reward \n",
    "\n",
    "print (\"Reward example: \", get_reward(2, 'GREEN'))"
   ]
  },
  {
   "cell_type": "code",
   "execution_count": 85,
   "id": "e94baccc-b314-48fa-b661-92d22e665584",
   "metadata": {},
   "outputs": [
    {
     "name": "stdout",
     "output_type": "stream",
     "text": [
      "3\n"
     ]
    }
   ],
   "source": [
    "def next_level(traffic,action): \n",
    "    if action == 'GREEN': \n",
    "        traffic += random.randint(1,2)\n",
    "    else: \n",
    "        traffic -= random.randint(1,2)\n",
    "    return int(np.clip(traffic,0,4))\n",
    "\n",
    "print(next_level(4, 'RED'))"
   ]
  },
  {
   "cell_type": "code",
   "execution_count": 86,
   "id": "80f19f2b-725d-48e3-931f-15738537f282",
   "metadata": {},
   "outputs": [
    {
     "name": "stdout",
     "output_type": "stream",
     "text": [
      "training completed\n"
     ]
    }
   ],
   "source": [
    "for ep in range(episodes): \n",
    "    traffic = random.choice(states)\n",
    "    for _ in range(5): \n",
    "        if random.uniform(0,1) < epsilon: \n",
    "            action = random.choice(actions) \n",
    "        else: \n",
    "            action = actions[np.argmax(Q[traffic])]\n",
    "\n",
    "        next_state = next_level(traffic,action)\n",
    "        reward = get_reward(next_state,action)\n",
    "\n",
    "        a = actions.index(action)\n",
    "        best_next = np.max(Q[next_state])\n",
    "        Q[traffic, a] += alpha * (reward + gamma * best_next - Q[traffic,a])\n",
    "\n",
    "        traffic = next_state\n",
    "\n",
    "print (\"training completed\")"
   ]
  },
  {
   "cell_type": "code",
   "execution_count": 87,
   "id": "b9ffa669-3991-4bf8-8178-0a8856ce002a",
   "metadata": {},
   "outputs": [
    {
     "name": "stdin",
     "output_type": "stream",
     "text": [
      "Enter traffic condition (0-4):  3\n"
     ]
    },
    {
     "name": "stdout",
     "output_type": "stream",
     "text": [
      "\n",
      "Starting with level: 3%\n",
      "Simulating for 10 steps:\n",
      "\n",
      "Step 1: Traffic=3 + Action=RED\n",
      "Step 2: Traffic=2 + Action=GREEN\n",
      "Step 3: Traffic=3 + Action=RED\n",
      "Step 4: Traffic=2 + Action=GREEN\n",
      "Step 5: Traffic=3 + Action=RED\n",
      "Step 6: Traffic=2 + Action=GREEN\n",
      "Step 7: Traffic=3 + Action=RED\n",
      "Step 8: Traffic=2 + Action=RED\n",
      "Step 9: Traffic=1 + Action=RED\n",
      "Step 10: Traffic=0 + Action=RED\n",
      "Simulation complete\n"
     ]
    }
   ],
   "source": [
    "try: \n",
    "    traffic = int(input('Enter traffic condition (0-4): '))\n",
    "    if traffic < 0 or traffic > 4: \n",
    "        raise ValueError ('Condition is not defined')\n",
    "except ValueError as e: \n",
    "    print (e) \n",
    "    traffic = 0\n",
    "    print ('Default level set to 0')\n",
    "\n",
    "print(f'\\nStarting with level: {traffic}%')\n",
    "print('Simulating for 10 steps:\\n')\n",
    " \n",
    "for step in range(10):\n",
    "    if random.uniform(0,1) < epsilon:\n",
    "        action = random.choice(actions)\n",
    "    else: \n",
    "        action = actions[np.argmax(Q[traffic])]\n",
    "        \n",
    "    print(f'Step {step+1}: Traffic={traffic} + Action={action}')\n",
    "    traffic = next_level(traffic, action)\n",
    " \n",
    "print('Simulation complete')"
   ]
  },
  {
   "cell_type": "code",
   "execution_count": null,
   "id": "64de5100-75ac-4c11-a394-d11d4013a6e3",
   "metadata": {},
   "outputs": [],
   "source": []
  }
 ],
 "metadata": {
  "kernelspec": {
   "display_name": "Python [conda env:base] *",
   "language": "python",
   "name": "conda-base-py"
  },
  "language_info": {
   "codemirror_mode": {
    "name": "ipython",
    "version": 3
   },
   "file_extension": ".py",
   "mimetype": "text/x-python",
   "name": "python",
   "nbconvert_exporter": "python",
   "pygments_lexer": "ipython3",
   "version": "3.13.5"
  }
 },
 "nbformat": 4,
 "nbformat_minor": 5
}
