{
 "cells": [
  {
   "cell_type": "code",
   "execution_count": 1,
   "id": "283c4cea-b391-4431-8108-36583c294655",
   "metadata": {},
   "outputs": [],
   "source": [
    "import numpy as np \n",
    "import random "
   ]
  },
  {
   "cell_type": "code",
   "execution_count": 3,
   "id": "0a7d2a46-1f8d-4bcf-b9b8-97f6c223f933",
   "metadata": {},
   "outputs": [
    {
     "name": "stdout",
     "output_type": "stream",
     "text": [
      "States: [  0  10  20  30  40  50  60  70  80  90 100]\n",
      "Actions: ['FILL', 'STOP']\n"
     ]
    }
   ],
   "source": [
    "states = np.arange(0,101,10) #0,10,20,30...100 - 10 is the increment \n",
    "actions = ['FILL', 'STOP']\n",
    "print (\"States:\", states) \n",
    "print (\"Actions:\", actions) "
   ]
  },
  {
   "cell_type": "code",
   "execution_count": 4,
   "id": "bd373f22-fa81-4ac4-ad5c-97d8c175ce38",
   "metadata": {},
   "outputs": [
    {
     "name": "stdout",
     "output_type": "stream",
     "text": [
      "Q-table shape:  (11, 2)\n"
     ]
    }
   ],
   "source": [
    "Q = np.zeros((len(states), len(actions)))\n",
    "\n",
    "alpha = 0.1\n",
    "gamma = 0.9 \n",
    "epsilon = 0.2 \n",
    "episodes = 300\n",
    "\n",
    "print ('Q-table shape: ',Q.shape) "
   ]
  },
  {
   "cell_type": "code",
   "execution_count": 6,
   "id": "bad99145-d10a-4b18-aeb6-8f7a33289960",
   "metadata": {},
   "outputs": [
    {
     "name": "stdout",
     "output_type": "stream",
     "text": [
      "Reward example (level=60m FILL): -10\n"
     ]
    }
   ],
   "source": [
    "def get_reward(level,action): \n",
    "    if 40<= level <=70: \n",
    "        reward = 10  #ideal range \n",
    "    else: \n",
    "        reward =-10 #too low/high \n",
    "    if action == 'FILL' and level >=90: \n",
    "        reward -= 10 \n",
    "    if action == 'STOP' and level <=10: \n",
    "        reward -= 10 #empty risk \n",
    "    return reward \n",
    "\n",
    "print ('Reward example (level=60m FILL):', get_reward(80, 'FILL'))"
   ]
  },
  {
   "cell_type": "code",
   "execution_count": 20,
   "id": "86dc0f40-03ca-4399-ada0-a665d8a3c9b9",
   "metadata": {},
   "outputs": [
    {
     "name": "stdout",
     "output_type": "stream",
     "text": [
      "Next Level Example: 65\n"
     ]
    }
   ],
   "source": [
    "def next_level(level,action): \n",
    "    if action == 'FILL': \n",
    "        level += random.choice([5,10,15])\n",
    "    else: \n",
    "        level -= random.choice([5,10,15])\n",
    "    return int(np.clip(level,0,100))\n",
    "\n",
    "print ('Next Level Example:',next_level(50, 'FILL'))\n",
    "#output will be either 50+5, 50+10 or 50+15"
   ]
  },
  {
   "cell_type": "code",
   "execution_count": 22,
   "id": "f61bcf67-c6e7-4c96-b6c1-2b6409f4904a",
   "metadata": {},
   "outputs": [
    {
     "name": "stdout",
     "output_type": "stream",
     "text": [
      "Training completed\n"
     ]
    }
   ],
   "source": [
    "for ep in range(episodes): \n",
    "    level = random.choice(states)\n",
    "    for _ in range(15): \n",
    "        if random.uniform(0,1) < epsilon: \n",
    "            action = random.choice(actions) \n",
    "        else: \n",
    "            action = actions[np.argmax(Q[level // 10])]\n",
    "\n",
    "        next_state = next_level(level,action)\n",
    "        reward = get_reward(next_state,action) \n",
    "\n",
    "        a = actions.index(action) \n",
    "        best_next = np.max(Q[next_state // 10])\n",
    "        Q[level // 10, a] += alpha * (reward + gamma * best_next - Q[level // 10,a])\n",
    "\n",
    "print (\"Training completed\")"
   ]
  },
  {
   "cell_type": "code",
   "execution_count": 24,
   "id": "7858355c-1788-45a0-9a4b-81cc256d5049",
   "metadata": {},
   "outputs": [
    {
     "name": "stdin",
     "output_type": "stream",
     "text": [
      "Enter starting water level (0-100):  100\n"
     ]
    },
    {
     "name": "stdout",
     "output_type": "stream",
     "text": [
      "\n",
      "Starting with level: 100%\n",
      "Simulating for 10 steps:\n",
      "\n",
      "Step 1: Level=100% + Action=STOP\n",
      "Step 2: Level=95% + Action=STOP\n",
      "Step 3: Level=90% + Action=STOP\n",
      "Step 4: Level=75% + Action=STOP\n",
      "Step 5: Level=65% + Action=STOP\n",
      "Step 6: Level=50% + Action=FILL\n",
      "Step 7: Level=55% + Action=FILL\n",
      "Step 8: Level=65% + Action=STOP\n",
      "Step 9: Level=50% + Action=FILL\n",
      "Step 10: Level=55% + Action=FILL\n",
      "Simulation complete. Water tank control finished.\n"
     ]
    }
   ],
   "source": [
    "try: \n",
    "    level = int(input('Enter starting water level (0-100): '))\n",
    "    if level < 0 or level > 100: \n",
    "        raise ValueError ('Water level our of range!')\n",
    "except ValueError as e: \n",
    "    print (e) \n",
    "    level = 50 \n",
    "    print ('Default level st to 50%')\n",
    "\n",
    "print(f'\\nStarting with level: {level}%')\n",
    "print('Simulating for 10 steps:\\n')\n",
    " \n",
    "for step in range(10):\n",
    "    action = actions[np.argmax(Q[level // 10])]\n",
    "    print(f'Step {step+1}: Level={level}% + Action={action}')\n",
    "    level = next_level(level, action)\n",
    " \n",
    "print('Simulation complete. Water tank control finished.')"
   ]
  },
  {
   "cell_type": "code",
   "execution_count": null,
   "id": "f1a52fec-98e6-460a-9e3f-2b61f71d02bd",
   "metadata": {},
   "outputs": [],
   "source": []
  }
 ],
 "metadata": {
  "kernelspec": {
   "display_name": "Python [conda env:base] *",
   "language": "python",
   "name": "conda-base-py"
  },
  "language_info": {
   "codemirror_mode": {
    "name": "ipython",
    "version": 3
   },
   "file_extension": ".py",
   "mimetype": "text/x-python",
   "name": "python",
   "nbconvert_exporter": "python",
   "pygments_lexer": "ipython3",
   "version": "3.13.5"
  }
 },
 "nbformat": 4,
 "nbformat_minor": 5
}
