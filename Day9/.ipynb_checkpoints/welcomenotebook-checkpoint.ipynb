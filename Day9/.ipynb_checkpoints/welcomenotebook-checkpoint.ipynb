{
 "cells": [
  {
   "cell_type": "markdown",
   "id": "edc627b8-32d7-4be8-9e4a-c1cc23462e8e",
   "metadata": {},
   "source": [
    "First Note Book"
   ]
  },
  {
   "cell_type": "code",
   "execution_count": 10,
   "id": "c9f511ae-2eec-4d3a-8b60-646c9d888357",
   "metadata": {},
   "outputs": [],
   "source": [
    "#Jupyter First Notebook"
   ]
  },
  {
   "cell_type": "code",
   "execution_count": 11,
   "id": "1cb06991-2842-4191-bf95-8aaff6122f07",
   "metadata": {},
   "outputs": [
    {
     "name": "stdout",
     "output_type": "stream",
     "text": [
      "Welcome to Jupyter notebook\n"
     ]
    }
   ],
   "source": [
    "print('Welcome to Jupyter notebook')"
   ]
  },
  {
   "cell_type": "code",
   "execution_count": null,
   "id": "59a8dc64-0f62-4052-99d5-5147541a8495",
   "metadata": {},
   "outputs": [],
   "source": [
    "#We are going to write one collection of numbers\n",
    "numbers=(1,2,4,5,6)"
   ]
  },
  {
   "cell_type": "code",
   "execution_count": 9,
   "id": "7f55b089-aa8e-499a-9600-8d4c816a7c2b",
   "metadata": {},
   "outputs": [
    {
     "name": "stdout",
     "output_type": "stream",
     "text": [
      "Next Run\n"
     ]
    }
   ],
   "source": [
    "print ('Next Run')"
   ]
  },
  {
   "cell_type": "code",
   "execution_count": 6,
   "id": "97a06274-bb62-48ac-8991-2d05c270c14c",
   "metadata": {},
   "outputs": [
    {
     "name": "stdout",
     "output_type": "stream",
     "text": [
      "12\n",
      "13\n",
      "45\n",
      "56\n"
     ]
    }
   ],
   "source": [
    "for num in numbers: \n",
    "    print (num)"
   ]
  },
  {
   "cell_type": "code",
   "execution_count": 8,
   "id": "c0718c6a-f1e2-4369-a247-083bfb9f5aef",
   "metadata": {},
   "outputs": [
    {
     "name": "stdout",
     "output_type": "stream",
     "text": [
      "Again\n"
     ]
    }
   ],
   "source": [
    "print ('Again')"
   ]
  },
  {
   "cell_type": "code",
   "execution_count": null,
   "id": "b302ceec-a6d8-460b-9557-8e0d02377873",
   "metadata": {},
   "outputs": [],
   "source": []
  },
  {
   "cell_type": "code",
   "execution_count": null,
   "id": "999c3dd0-eedb-4014-a855-425766202d22",
   "metadata": {},
   "outputs": [],
   "source": []
  },
  {
   "cell_type": "code",
   "execution_count": null,
   "id": "6c4e24cf-aaa5-4db5-bf41-bbc37a0584e5",
   "metadata": {},
   "outputs": [],
   "source": []
  }
 ],
 "metadata": {
  "kernelspec": {
   "display_name": "Python [conda env:base] *",
   "language": "python",
   "name": "conda-base-py"
  },
  "language_info": {
   "codemirror_mode": {
    "name": "ipython",
    "version": 3
   },
   "file_extension": ".py",
   "mimetype": "text/x-python",
   "name": "python",
   "nbconvert_exporter": "python",
   "pygments_lexer": "ipython3",
   "version": "3.13.5"
  }
 },
 "nbformat": 4,
 "nbformat_minor": 5
}
