{
 "cells": [
  {
   "cell_type": "markdown",
   "id": "e7ef75ef-3913-42df-b030-5d5336e19d27",
   "metadata": {},
   "source": [
    "# Steps to Print a Single Line \n",
    "\n",
    "We will create code cell. <br> We will write print command. <br> We will run the cell"
   ]
  },
  {
   "cell_type": "code",
   "execution_count": 1,
   "id": "cacad394-45d6-42b7-a49c-eeaac8447fd8",
   "metadata": {},
   "outputs": [
    {
     "name": "stdout",
     "output_type": "stream",
     "text": [
      "Welcome to Python Note Book\n"
     ]
    }
   ],
   "source": [
    "print ('Welcome to Python Note Book')"
   ]
  },
  {
   "cell_type": "markdown",
   "id": "aefe6416-7b9f-42da-a334-1063a76e20db",
   "metadata": {},
   "source": [
    "# For loop example"
   ]
  },
  {
   "cell_type": "code",
   "execution_count": 9,
   "id": "a5e3f16c-4303-4827-a63f-839c1aeea4f6",
   "metadata": {},
   "outputs": [
    {
     "name": "stdout",
     "output_type": "stream",
     "text": [
      "1\t2\t3\t4\t5\t6\t7\t8\t9\t10\t11\t12\t13\t14\t15\t16\t17\t18\t19\t20\t21\t22\t23\t24\t25\t26\t27\t28\t29\t30\t31\t32\t33\t34\t35\t36\t37\t38\t39\t40\t41\t42\t43\t44\t45\t46\t47\t48\t49\t50\t51\t52\t53\t54\t55\t56\t57\t58\t59\t60\t61\t62\t63\t64\t65\t66\t67\t68\t69\t70\t71\t72\t73\t74\t75\t76\t77\t78\t79\t80\t81\t82\t83\t84\t85\t86\t87\t88\t89\t90\t91\t92\t93\t94\t95\t96\t97\t98\t99\t100\t101\t"
     ]
    }
   ],
   "source": [
    "for num in range(1,102):\n",
    "    print (num,end=\"\\t\")"
   ]
  },
  {
   "cell_type": "code",
   "execution_count": 3,
   "id": "4ffcf807-2852-4f11-a4ce-6edb77c767e5",
   "metadata": {},
   "outputs": [],
   "source": [
    "players = ('Smiski', 'Sonny', 'Dimoo')"
   ]
  },
  {
   "cell_type": "code",
   "execution_count": 5,
   "id": "b834e551-bbb4-4d09-954f-8096948151d7",
   "metadata": {},
   "outputs": [
    {
     "name": "stdout",
     "output_type": "stream",
     "text": [
      "Smiski\n",
      "Sonny\n",
      "Dimoo\n"
     ]
    }
   ],
   "source": [
    "for player in players: \n",
    "    print (player)"
   ]
  },
  {
   "cell_type": "code",
   "execution_count": 10,
   "id": "e72700c3-eecc-42a7-a9c2-b5516d0bbd40",
   "metadata": {},
   "outputs": [
    {
     "name": "stdout",
     "output_type": "stream",
     "text": [
      "Welcome Again\n"
     ]
    }
   ],
   "source": [
    "print('Welcome Again')"
   ]
  },
  {
   "cell_type": "code",
   "execution_count": 12,
   "id": "ec78d1e0-81a0-4eb0-8c30-0bd688233027",
   "metadata": {},
   "outputs": [
    {
     "name": "stdout",
     "output_type": "stream",
     "text": [
      "Welcome Again\n",
      "One more thing\n"
     ]
    }
   ],
   "source": [
    "print ('Welcome Again')\n",
    "print ('One more thing')"
   ]
  }
 ],
 "metadata": {
  "kernelspec": {
   "display_name": "Python [conda env:base] *",
   "language": "python",
   "name": "conda-base-py"
  },
  "language_info": {
   "codemirror_mode": {
    "name": "ipython",
    "version": 3
   },
   "file_extension": ".py",
   "mimetype": "text/x-python",
   "name": "python",
   "nbconvert_exporter": "python",
   "pygments_lexer": "ipython3",
   "version": "3.13.5"
  }
 },
 "nbformat": 4,
 "nbformat_minor": 5
}
